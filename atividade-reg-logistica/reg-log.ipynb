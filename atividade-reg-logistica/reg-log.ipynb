{
 "cells": [
  {
   "cell_type": "code",
   "execution_count": 2,
   "metadata": {},
   "outputs": [],
   "source": [
    "# fazendo importações\n",
    "import pandas as pd\n",
    "import warnings"
   ]
  },
  {
   "cell_type": "code",
   "execution_count": 3,
   "metadata": {},
   "outputs": [],
   "source": [
    "# ignorando warnings\n",
    "warnings.filterwarnings(\"ignore\")"
   ]
  },
  {
   "cell_type": "code",
   "execution_count": 4,
   "metadata": {},
   "outputs": [],
   "source": [
    "# definindo colunas e tamanho\n",
    "colspecs = [(2, 10), (10, 22), (56, 69), (82, 95)]\n",
    "names = ['date', 'cod', 'opening-price', 'closing-price']"
   ]
  },
  {
   "cell_type": "code",
   "execution_count": 5,
   "metadata": {},
   "outputs": [],
   "source": [
    "# carregando arquivos\n",
    "df22 = pd.read_fwf('../../bkp-CSVB3/COTAHIST_A2023.TXT', colspecs=colspecs, names=names, header=None)\n",
    "df23 = pd.read_fwf('../../bkp-CSVB3/COTAHIST_A2022.TXT', colspecs=colspecs, names=names, header=None)\n",
    "df24 = pd.read_fwf('../../bkp-CSVB3/COTAHIST_A2024.TXT', colspecs=colspecs, names=names, header=None)"
   ]
  },
  {
   "cell_type": "code",
   "execution_count": 6,
   "metadata": {},
   "outputs": [],
   "source": [
    "# filtrando ações da ambev\n",
    "ABEV3_df22 = df22[df22['cod'].str.endswith('ABEV3')]\n",
    "ABEV3_df23 = df23[df23['cod'].str.endswith('ABEV3')]\n",
    "ABEV3_df24 = df24[df24['cod'].str.endswith('ABEV3')]"
   ]
  },
  {
   "cell_type": "code",
   "execution_count": 7,
   "metadata": {},
   "outputs": [],
   "source": [
    "# unificando dataframes\n",
    "df = pd.concat([ABEV3_df22, ABEV3_df23])"
   ]
  },
  {
   "cell_type": "code",
   "execution_count": 8,
   "metadata": {},
   "outputs": [
    {
     "name": "stdout",
     "output_type": "stream",
     "text": [
      "             date      cod  opening-price  closing-price\n",
      "21       20230102  02ABEV3         1440.0         1402.0\n",
      "1655     20230103  02ABEV3         1416.0         1411.0\n",
      "3182     20230104  02ABEV3         1428.0         1408.0\n",
      "4849     20230105  02ABEV3         1427.0         1414.0\n",
      "6534     20230106  02ABEV3         1430.0         1416.0\n",
      "...           ...      ...            ...            ...\n",
      "1221393  20221202  02ABEV3         1615.0         1595.0\n",
      "1228746  20221027  02ABEV3         1525.0         1521.0\n",
      "1229043  20221122  02ABEV3         1570.0         1550.0\n",
      "1229143  20221111  02ABEV3         1576.0         1566.0\n",
      "1231359  20221109  02ABEV3         1661.0         1642.0\n",
      "\n",
      "[498 rows x 4 columns]\n"
     ]
    }
   ],
   "source": [
    "# lendo valores\n",
    "df.head(20)\n",
    "print(df)"
   ]
  },
  {
   "cell_type": "code",
   "execution_count": 9,
   "metadata": {},
   "outputs": [
    {
     "name": "stdout",
     "output_type": "stream",
     "text": [
      "              date      cod  opening-price  closing-price   Ano  Mes  Dia\n",
      "21      2023-01-02  02ABEV3         1440.0         1402.0  2023    1    2\n",
      "1655    2023-01-03  02ABEV3         1416.0         1411.0  2023    1    3\n",
      "3182    2023-01-04  02ABEV3         1428.0         1408.0  2023    1    4\n",
      "4849    2023-01-05  02ABEV3         1427.0         1414.0  2023    1    5\n",
      "6534    2023-01-06  02ABEV3         1430.0         1416.0  2023    1    6\n",
      "...            ...      ...            ...            ...   ...  ...  ...\n",
      "1221393 2022-12-02  02ABEV3         1615.0         1595.0  2022   12    2\n",
      "1228746 2022-10-27  02ABEV3         1525.0         1521.0  2022   10   27\n",
      "1229043 2022-11-22  02ABEV3         1570.0         1550.0  2022   11   22\n",
      "1229143 2022-11-11  02ABEV3         1576.0         1566.0  2022   11   11\n",
      "1231359 2022-11-09  02ABEV3         1661.0         1642.0  2022   11    9\n",
      "\n",
      "[498 rows x 7 columns]\n"
     ]
    }
   ],
   "source": [
    "# formatando as datas\n",
    "df['date'] = pd.to_datetime(df['date'], format='%Y%m%d')\n",
    "\n",
    "# separando e extraindo ano, mês e dia\n",
    "df['Ano'] = df['date'].dt.year\n",
    "df['Mes'] = df['date'].dt.month\n",
    "df['Dia'] = df['date'].dt.day\n",
    "\n",
    "print(df)"
   ]
  },
  {
   "cell_type": "code",
   "execution_count": null,
   "metadata": {},
   "outputs": [],
   "source": []
  }
 ],
 "metadata": {
  "kernelspec": {
   "display_name": "Python 3",
   "language": "python",
   "name": "python3"
  },
  "language_info": {
   "codemirror_mode": {
    "name": "ipython",
    "version": 3
   },
   "file_extension": ".py",
   "mimetype": "text/x-python",
   "name": "python",
   "nbconvert_exporter": "python",
   "pygments_lexer": "ipython3",
   "version": "3.12.2"
  }
 },
 "nbformat": 4,
 "nbformat_minor": 2
}
